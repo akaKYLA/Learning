{
 "cells": [
  {
   "cell_type": "code",
   "execution_count": 6,
   "metadata": {},
   "outputs": [
    {
     "name": "stdout",
     "output_type": "stream",
     "text": [
      "Yaşınızı Giriniz:17\n",
      "Mekana Giremezsiniz!\n"
     ]
    }
   ],
   "source": [
    "yaş = int(input(\"Yaşınızı Giriniz:\"))\n",
    "\n",
    "if yaş < 18:\n",
    "    print(\"Mekana Giremezsiniz!\")"
   ]
  },
  {
   "cell_type": "code",
   "execution_count": 7,
   "metadata": {},
   "outputs": [
    {
     "name": "stdout",
     "output_type": "stream",
     "text": [
      "Yaşınızı Giriniz:19\n"
     ]
    }
   ],
   "source": [
    "yaş = int(input(\"Yaşınızı Giriniz:\"))\n",
    "\n",
    "if yaş < 18:\n",
    "    print(\"Mekana Giremezsiniz!\")"
   ]
  },
  {
   "cell_type": "code",
   "execution_count": 8,
   "metadata": {},
   "outputs": [
    {
     "name": "stdout",
     "output_type": "stream",
     "text": [
      "Yaşınızı Giriniz:18\n",
      "Mekana Hoşgeldiniz!\n"
     ]
    }
   ],
   "source": [
    "yaş = int(input(\"Yaşınızı Giriniz:\"))\n",
    "\n",
    "if yaş < 18:\n",
    "    print(\"Mekana Giremezsiniz!\")\n",
    "else:\n",
    "    print(\"Mekana Hoşgeldiniz!\")\n",
    "    "
   ]
  },
  {
   "cell_type": "code",
   "execution_count": 9,
   "metadata": {},
   "outputs": [
    {
     "name": "stdout",
     "output_type": "stream",
     "text": [
      "Yaşınızı Giriniz:17\n",
      "Mekana Giremezsiniz!\n"
     ]
    }
   ],
   "source": [
    "yaş = int(input(\"Yaşınızı Giriniz:\"))\n",
    "\n",
    "if yaş < 18:\n",
    "    print(\"Mekana Giremezsiniz!\")\n",
    "else:\n",
    "    print(\"Mekana Hoşgeldiniz!\")"
   ]
  },
  {
   "cell_type": "code",
   "execution_count": 13,
   "metadata": {},
   "outputs": [
    {
     "name": "stdout",
     "output_type": "stream",
     "text": [
      "Sayı:-2\n",
      "Negatif Sayı\n"
     ]
    }
   ],
   "source": [
    "sayı = int(input(\"Sayı:\"))\n",
    "if sayı < 0:\n",
    "    print(\"Negatif Sayı\")\n",
    "else : \n",
    "    print(\"Sıfır veya Pozitif Sayı\")"
   ]
  },
  {
   "cell_type": "code",
   "execution_count": 14,
   "metadata": {},
   "outputs": [
    {
     "name": "stdout",
     "output_type": "stream",
     "text": [
      "Sayı:0\n",
      "Sıfır veya Pozitif Sayı\n"
     ]
    }
   ],
   "source": [
    "sayı = int(input(\"Sayı:\"))\n",
    "if sayı < 0:\n",
    "    print(\"Negatif Sayı\")\n",
    "else : \n",
    "    print(\"Sıfır veya Pozitif Sayı\")"
   ]
  },
  {
   "cell_type": "code",
   "execution_count": 15,
   "metadata": {},
   "outputs": [
    {
     "name": "stdout",
     "output_type": "stream",
     "text": [
      "Sayı:3\n",
      "Sıfır veya Pozitif Sayı\n"
     ]
    }
   ],
   "source": [
    "sayı = int(input(\"Sayı:\"))\n",
    "if sayı < 0:\n",
    "    print(\"Negatif Sayı\")\n",
    "else : \n",
    "    print(\"Sıfır veya Pozitif Sayı\")"
   ]
  },
  {
   "cell_type": "code",
   "execution_count": null,
   "metadata": {},
   "outputs": [],
   "source": []
  }
 ],
 "metadata": {
  "kernelspec": {
   "display_name": "Python 3",
   "language": "python",
   "name": "python3"
  },
  "language_info": {
   "codemirror_mode": {
    "name": "ipython",
    "version": 3
   },
   "file_extension": ".py",
   "mimetype": "text/x-python",
   "name": "python",
   "nbconvert_exporter": "python",
   "pygments_lexer": "ipython3",
   "version": "3.7.6"
  }
 },
 "nbformat": 4,
 "nbformat_minor": 4
}
