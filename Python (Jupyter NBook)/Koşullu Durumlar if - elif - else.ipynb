{
 "cells": [
  {
   "cell_type": "code",
   "execution_count": 3,
   "metadata": {},
   "outputs": [
    {
     "name": "stdout",
     "output_type": "stream",
     "text": [
      "İşlem Giriniz:1\n",
      "İşlem 1 Seçildi.\n"
     ]
    }
   ],
   "source": [
    "işlem = input(\"İşlem Giriniz:\")\n",
    "\n",
    "if işlem == \"1\":\n",
    "    print(\"İşlem 1 Seçildi.\")\n",
    "elif işlem == \"2\":\n",
    "    print(\"İşlem 2 Seçildi.\")\n",
    "elif işlem == \"3\":\n",
    "    print(\"İşlem 3 Seçildi.\")\n",
    "elif işlem == \"4\":\n",
    "    print(\"İşlem 4 Seçildi.\")\n",
    "else:\n",
    "    print(\"Geçersiz İşlem!\")"
   ]
  },
  {
   "cell_type": "code",
   "execution_count": 4,
   "metadata": {},
   "outputs": [
    {
     "name": "stdout",
     "output_type": "stream",
     "text": [
      "İşlem Giriniz:2\n",
      "İşlem 2 Seçildi.\n"
     ]
    }
   ],
   "source": [
    "işlem = input(\"İşlem Giriniz:\")\n",
    "\n",
    "if işlem == \"1\":\n",
    "    print(\"İşlem 1 Seçildi.\")\n",
    "elif işlem == \"2\":\n",
    "    print(\"İşlem 2 Seçildi.\")\n",
    "elif işlem == \"3\":\n",
    "    print(\"İşlem 3 Seçildi.\")\n",
    "elif işlem == \"4\":\n",
    "    print(\"İşlem 4 Seçildi.\")\n",
    "else:\n",
    "    print(\"Geçersiz İşlem!\")"
   ]
  },
  {
   "cell_type": "code",
   "execution_count": 5,
   "metadata": {},
   "outputs": [
    {
     "name": "stdout",
     "output_type": "stream",
     "text": [
      "İşlem Giriniz:5\n",
      "Geçersiz İşlem!\n"
     ]
    }
   ],
   "source": [
    "işlem = input(\"İşlem Giriniz:\")\n",
    "\n",
    "if işlem == \"1\":\n",
    "    print(\"İşlem 1 Seçildi.\")\n",
    "elif işlem == \"2\":\n",
    "    print(\"İşlem 2 Seçildi.\")\n",
    "elif işlem == \"3\":\n",
    "    print(\"İşlem 3 Seçildi.\")\n",
    "elif işlem == \"4\":\n",
    "    print(\"İşlem 4 Seçildi.\")\n",
    "else:\n",
    "    print(\"Geçersiz İşlem!\")"
   ]
  },
  {
   "cell_type": "code",
   "execution_count": 6,
   "metadata": {},
   "outputs": [
    {
     "ename": "SyntaxError",
     "evalue": "invalid syntax (<ipython-input-6-b1ac8ce195c6>, line 1)",
     "output_type": "error",
     "traceback": [
      "\u001b[1;36m  File \u001b[1;32m\"<ipython-input-6-b1ac8ce195c6>\"\u001b[1;36m, line \u001b[1;32m1\u001b[0m\n\u001b[1;33m    else:\u001b[0m\n\u001b[1;37m       ^\u001b[0m\n\u001b[1;31mSyntaxError\u001b[0m\u001b[1;31m:\u001b[0m invalid syntax\n"
     ]
    }
   ],
   "source": [
    "else:\n",
    "    print(\"Geçersiz işlem\")"
   ]
  },
  {
   "cell_type": "code",
   "execution_count": 10,
   "metadata": {},
   "outputs": [
    {
     "name": "stdout",
     "output_type": "stream",
     "text": [
      "Notunuzu Girin.65\n",
      "DC\n"
     ]
    }
   ],
   "source": [
    "note = float(input(\"Notunuzu Girin.\"))\n",
    "\n",
    "if (note >= 90) :\n",
    "    print(\"AA\")\n",
    "elif (note >= 85) :\n",
    "    print(\"BA\")\n",
    "elif (note >= 80) :\n",
    "    print(\"BB\")\n",
    "elif (note >= 75) :\n",
    "    print(\"CB\")\n",
    "elif (note >= 70) :\n",
    "    print(\"CC\")\n",
    "elif (note >= 65) :\n",
    "    print(\"DC\")\n",
    "elif (note >= 60) :\n",
    "    print(\"DD\")\n",
    "else : print(\"Kaldınız.\")"
   ]
  },
  {
   "cell_type": "code",
   "execution_count": null,
   "metadata": {},
   "outputs": [],
   "source": []
  }
 ],
 "metadata": {
  "kernelspec": {
   "display_name": "Python 3",
   "language": "python",
   "name": "python3"
  },
  "language_info": {
   "codemirror_mode": {
    "name": "ipython",
    "version": 3
   },
   "file_extension": ".py",
   "mimetype": "text/x-python",
   "name": "python",
   "nbconvert_exporter": "python",
   "pygments_lexer": "ipython3",
   "version": "3.7.6"
  }
 },
 "nbformat": 4,
 "nbformat_minor": 4
}
